{
 "cells": [
  {
   "cell_type": "code",
   "execution_count": 1,
   "metadata": {},
   "outputs": [],
   "source": [
    "import numpy as np\n",
    "%matplotlib inline\n",
    "from coffea import hist\n",
    "from coffea.analysis_objects import JaggedCandidateArray\n",
    "import coffea.processor as processor"
   ]
  },
  {
   "cell_type": "code",
   "execution_count": 2,
   "metadata": {},
   "outputs": [],
   "source": [
    "# This program plots the pT of the trijet system in each event with mass closest to 172.5, as well as the maximum b-tag among the three plotted jets.\n",
    "\n",
    "class Processor(processor.ProcessorABC):\n",
    "    def __init__(self):\n",
    "        dataset_axis = hist.Cat(\"dataset\", \"\")\n",
    "        Jet_axis = hist.Bin(\"Jet_pt\", \"Jet [GeV]\", 50, 15, 200)\n",
    "        b_tag_axis = hist.Bin(\"b_tag\", \"b-tagging discriminant\", 50, 0, 1)\n",
    "        \n",
    "        self._accumulator = processor.dict_accumulator({\n",
    "            'Jet_pt': hist.Hist(\"Counts\", dataset_axis, Jet_axis),\n",
    "            'b_tag': hist.Hist(\"Counts\", dataset_axis, b_tag_axis),\n",
    "            'cutflow': processor.defaultdict_accumulator(int)\n",
    "        })\n",
    "    \n",
    "    @property\n",
    "    def accumulator(self):\n",
    "        return self._accumulator\n",
    "    \n",
    "    def process(self, events):\n",
    "        output = self.accumulator.identity()\n",
    "        \n",
    "        dataset = events.metadata[\"dataset\"]\n",
    "        \n",
    "        jets = events.Jet\n",
    "        \n",
    "        # Closest calculates the distance from 172.5 of a group of masses, finds the minimum distance, then returns a Boolean array of the original input array shape with True where the minimum-distance mass is located.\n",
    "        def closest(masses):\n",
    "            delta = abs(172.5 - masses)\n",
    "            closest_masses = delta.min()\n",
    "            is_closest = (delta == closest_masses)\n",
    "            return is_closest\n",
    "        \n",
    "        # We're going to be generating combinations of three jets - that's a lot, and cutting pt off at 30 reduces jets by half.\n",
    "        cut_jets = jets[jets.pt > 30]\n",
    "        \n",
    "        # Get all combinations of three jets.\n",
    "        trijets = cut_jets.choose(3)\n",
    "        # Get combined masses of those combinations, by adding all p4's and then taking .mass.\n",
    "        trijet_masses = (trijets.i0 + trijets.i1 + trijets.i2).mass\n",
    "        # Get the masses closest to specified value (see function above)\n",
    "        is_closest = closest(trijet_masses)\n",
    "        closest_trijets = trijets[is_closest]\n",
    "        # Get pt of the closest trijets.\n",
    "        closest_pt = (closest_trijets.i0 + closest_trijets.i1 + closest_trijets.i2).pt\n",
    "        # Get btag of the closest trijets. np.maximum(x,y) compares two arrays and gets element-wise maximums. We make two comparisons - once between the first and second jet, then between the first comparison and the third jet.\n",
    "        closest_btag = np.maximum(np.maximum(closest_trijets.i0.btag, closest_trijets.i1.btag), closest_trijets.i2.btag)\n",
    "        \n",
    "        output['Jet_pt'].fill(dataset=dataset, Jet_pt=closest_pt.flatten())\n",
    "        output['b_tag'].fill(dataset=dataset, b_tag=closest_btag.flatten())\n",
    "        return output\n",
    "\n",
    "    def postprocess(self, accumulator):\n",
    "        return accumulator"
   ]
  },
  {
   "cell_type": "code",
   "execution_count": 3,
   "metadata": {},
   "outputs": [
    {
     "name": "stdout",
     "output_type": "stream",
     "text": [
      "{'protocol': 'tls://', 'security': Security(require_encryption=True, tls_ca_file='/etc/cmsaf-secrets/ca.pem', tls_client_cert='/etc/cmsaf-secrets/hostcert.pem', tls_client_key='/etc/cmsaf-secrets/hostcert.pem', tls_scheduler_cert='/etc/cmsaf-secrets/hostcert.pem', tls_scheduler_key='/etc/cmsaf-secrets/hostcert.pem', tls_worker_cert='/etc/cmsaf-secrets/hostcert.pem', tls_worker_key='/etc/cmsaf-secrets/hostcert.pem'), 'log_directory': 'logs', 'silence_logs': 'DEBUG', 'scheduler_options': {'port': 8786, 'dashboard_address': '8787', 'protocol': 'tls', 'external_address': 'tls://matousadamec-40gmail-2ecom.dask.coffea.casa:8786'}, 'job_extra': {'universe': 'docker', 'docker_image': 'coffeateam/coffea-casa-analysis:0.2.23', 'container_service_names': 'dask', 'dask_container_port': 8786, 'transfer_input_files': '/etc/cmsaf-secrets/ca.pem, /etc/cmsaf-secrets/hostcert.pem, /etc/cmsaf-secrets/xcache_token', 'encrypt_input_files': '/etc/cmsaf-secrets/ca.pem, /etc/cmsaf-secrets/hostcert.pem, /etc/cmsaf-secrets/xcache_token', 'transfer_output_files': '', 'when_to_transfer_output': 'ON_EXIT', 'should_transfer_files': 'YES', 'Stream_Output': 'False', 'Stream_Error': 'False', '+DaskSchedulerAddress': '\"tls://matousadamec-40gmail-2ecom.dask.coffea.casa:8786\"'}}\n"
     ]
    },
    {
     "name": "stderr",
     "output_type": "stream",
     "text": [
      "distributed.scheduler - INFO - Clear task state\n",
      "distributed.scheduler - INFO -   Scheduler at: tls://192.168.145.131:8786\n",
      "distributed.scheduler - INFO -   dashboard at:                     :8787\n",
      "distributed.scheduler - INFO - Receive client connection: Client-a5540429-f2ca-11ea-9c4a-ae5d2030f5f0\n",
      "distributed.core - INFO - Starting established connection\n"
     ]
    },
    {
     "name": "stdout",
     "output_type": "stream",
     "text": [
      "[                                        ] | 0% Completed | 56.9s"
     ]
    },
    {
     "name": "stderr",
     "output_type": "stream",
     "text": [
      "distributed.scheduler - INFO - Register worker <Worker 'tls://129.93.182.3:32854', name: htcondor--7504830.0--, memory: 0, processing: 1>\n",
      "distributed.scheduler - INFO - Starting worker compute stream, tls://129.93.182.3:32854\n",
      "distributed.core - INFO - Starting established connection\n"
     ]
    },
    {
     "name": "stdout",
     "output_type": "stream",
     "text": [
      "[#                                       ] | 2% Completed | 24.8sin 11.4s"
     ]
    },
    {
     "name": "stderr",
     "output_type": "stream",
     "text": [
      "distributed.scheduler - INFO - Register worker <Worker 'tls://129.93.182.3:32855', name: htcondor--7504831.0--, memory: 0, processing: 0>\n",
      "distributed.scheduler - INFO - Starting worker compute stream, tls://129.93.182.3:32855\n",
      "distributed.core - INFO - Starting established connection\n"
     ]
    },
    {
     "name": "stdout",
     "output_type": "stream",
     "text": [
      "[#                                       ] | 3% Completed | 28.8s"
     ]
    },
    {
     "name": "stderr",
     "output_type": "stream",
     "text": [
      "distributed.scheduler - INFO - Register worker <Worker 'tls://129.93.182.206:32781', name: htcondor--7504833.0--, memory: 0, processing: 0>\n",
      "distributed.scheduler - INFO - Starting worker compute stream, tls://129.93.182.206:32781\n",
      "distributed.core - INFO - Starting established connection\n"
     ]
    },
    {
     "name": "stdout",
     "output_type": "stream",
     "text": [
      "[###############################         ] | 78% Completed |  2min 43.7s"
     ]
    },
    {
     "name": "stderr",
     "output_type": "stream",
     "text": [
      "distributed.scheduler - INFO - Register worker <Worker 'tls://129.93.182.82:32768', name: htcondor--7504832.0--, memory: 0, processing: 0>\n",
      "distributed.scheduler - INFO - Starting worker compute stream, tls://129.93.182.82:32768\n",
      "distributed.core - INFO - Starting established connection\n"
     ]
    },
    {
     "name": "stdout",
     "output_type": "stream",
     "text": [
      "[#####################################   ] | 93% Completed |  3min  3.4s"
     ]
    },
    {
     "name": "stderr",
     "output_type": "stream",
     "text": [
      "distributed.scheduler - INFO - Retire worker names ('htcondor--7504830.0--',)\n",
      "distributed.scheduler - INFO - Retire workers {<Worker 'tls://129.93.182.3:32854', name: htcondor--7504830.0--, memory: 11, processing: 3>}\n",
      "distributed.scheduler - INFO - Moving 10 keys to other workers\n",
      "distributed.scheduler - INFO - Remove worker <Worker 'tls://129.93.182.3:32854', name: htcondor--7504830.0--, memory: 11, processing: 3>\n"
     ]
    },
    {
     "name": "stdout",
     "output_type": "stream",
     "text": [
      "[#####################################   ] | 93% Completed |  3min  3.5s"
     ]
    },
    {
     "name": "stderr",
     "output_type": "stream",
     "text": [
      "distributed.core - INFO - Removing comms to tls://129.93.182.3:32854\n"
     ]
    },
    {
     "name": "stdout",
     "output_type": "stream",
     "text": [
      "[#####################################   ] | 94% Completed |  3min  5.5s"
     ]
    },
    {
     "name": "stderr",
     "output_type": "stream",
     "text": [
      "distributed.scheduler - INFO - Retire worker names ('htcondor--7504832.0--',)\n",
      "distributed.scheduler - INFO - Retire workers {<Worker 'tls://129.93.182.82:32768', name: htcondor--7504832.0--, memory: 7, processing: 3>}\n",
      "distributed.scheduler - INFO - Moving 6 keys to other workers\n",
      "distributed.scheduler - INFO - Remove worker <Worker 'tls://129.93.182.82:32768', name: htcondor--7504832.0--, memory: 7, processing: 3>\n",
      "distributed.core - INFO - Removing comms to tls://129.93.182.82:32768\n"
     ]
    },
    {
     "name": "stdout",
     "output_type": "stream",
     "text": [
      "[######################################  ] | 97% Completed |  3min 11.5s"
     ]
    },
    {
     "name": "stderr",
     "output_type": "stream",
     "text": [
      "distributed.scheduler - INFO - Retire worker names ('htcondor--7504831.0--',)\n",
      "distributed.scheduler - INFO - Retire workers {<Worker 'tls://129.93.182.3:32855', name: htcondor--7504831.0--, memory: 5, processing: 1>}\n",
      "distributed.scheduler - INFO - Moving 4 keys to other workers\n",
      "distributed.scheduler - INFO - Remove worker <Worker 'tls://129.93.182.3:32855', name: htcondor--7504831.0--, memory: 5, processing: 1>\n",
      "distributed.core - INFO - Removing comms to tls://129.93.182.3:32855\n"
     ]
    },
    {
     "name": "stdout",
     "output_type": "stream",
     "text": [
      "[########################################] | 100% Completed |  3min 17.2s\r"
     ]
    }
   ],
   "source": [
    "fileset = {'SingleMu' : [\"root://eospublic.cern.ch//eos/root-eos/benchmark/Run2012B_SingleMu.root\"]}\n",
    "\n",
    "from dask.distributed import Client\n",
    "from coffea_casa import CoffeaCasaCluster\n",
    "\n",
    "cluster = CoffeaCasaCluster()\n",
    "cluster.adapt(minimum=4, maximum=16)\n",
    "client = Client(cluster)\n",
    "\n",
    "output = processor.run_uproot_job(fileset=fileset, \n",
    "                       treename=\"Events\", \n",
    "                       processor_instance=Processor(),\n",
    "                       executor=processor.dask_executor,\n",
    "                       executor_args={'client': client, 'nano': True},\n",
    "                       chunksize=250000)"
   ]
  },
  {
   "cell_type": "code",
   "execution_count": 4,
   "metadata": {},
   "outputs": [
    {
     "data": {
      "text/plain": [
       "<matplotlib.axes._subplots.AxesSubplot at 0x7f76abd97af0>"
      ]
     },
     "execution_count": 4,
     "metadata": {},
     "output_type": "execute_result"
    },
    {
     "data": {
      "image/png": "[encoded data removed]",
      "text/plain": [
       "<Figure size 432x288 with 1 Axes>"
      ]
     },
     "metadata": {
      "needs_background": "light"
     },
     "output_type": "display_data"
    }
   ],
   "source": [
    "hist.plot1d(output['Jet_pt'], overlay='dataset', fill_opts={'edgecolor': (0,0,0,0.3), 'alpha': 0.8})"
   ]
  },
  {
   "cell_type": "code",
   "execution_count": 5,
   "metadata": {},
   "outputs": [
    {
     "data": {
      "text/plain": [
       "<matplotlib.axes._subplots.AxesSubplot at 0x7f76abcd6df0>"
      ]
     },
     "execution_count": 5,
     "metadata": {},
     "output_type": "execute_result"
    },
    {
     "data": {
      "image/png": "[encoded data removed]",
      "text/plain": [
       "<Figure size 432x288 with 1 Axes>"
      ]
     },
     "metadata": {
      "needs_background": "light"
     },
     "output_type": "display_data"
    }
   ],
   "source": [
    "hist.plot1d(output['b_tag'], overlay='dataset', fill_opts={'edgecolor': (0,0,0,0.3), 'alpha': 0.8})"
   ]
  }
 ],
 "metadata": {
  "kernelspec": {
   "display_name": "Python 3",
   "language": "python",
   "name": "python3"
  },
  "language_info": {
   "codemirror_mode": {
    "name": "ipython",
    "version": 3
   },
   "file_extension": ".py",
   "mimetype": "text/x-python",
   "name": "python",
   "nbconvert_exporter": "python",
   "pygments_lexer": "ipython3",
   "version": "3.8.5"
  }
 },
 "nbformat": 4,
 "nbformat_minor": 4
}
