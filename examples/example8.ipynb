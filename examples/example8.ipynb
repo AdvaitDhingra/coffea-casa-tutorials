{
 "cells": [
  {
   "cell_type": "code",
   "execution_count": 1,
   "metadata": {},
   "outputs": [],
   "source": [
    "%matplotlib inline\n",
    "from coffea import hist\n",
    "from coffea.analysis_objects import JaggedCandidateArray\n",
    "from uproot_methods import TLorentzVectorArray\n",
    "import coffea.processor as processor\n",
    "import numpy as np\n",
    "import numba as nb\n",
    "import awkward as ak"
   ]
  },
  {
   "cell_type": "code",
   "execution_count": 2,
   "metadata": {},
   "outputs": [],
   "source": [
    "# This is a helper function which adds muon (0) and electron (1) identifiers to a stacked lepton JaggedArray.\n",
    "def make_labeled_p4(x, indices, itype):\n",
    "    p4 = TLorentzVectorArray.from_ptetaphim(x.pt, x.eta, x.phi, x.mass)\n",
    "    return ak.JaggedArray.zip(p4=p4,\n",
    "                              ptype=itype*x.pt.ones_like().astype(np.int),\n",
    "                              flavor=indices,\n",
    "                              charge=x.charge)\n",
    "\n",
    "# This generates a stacked lepton JaggedArray, allowing combination of both muons and electrons for computations across flavor.\n",
    "def stack_leptons(muons, electrons):\n",
    "    # Construct new lepton indices within every event array.\n",
    "    muons_indices = ak.JaggedArray.fromoffsets(muons.pt.offsets, \n",
    "                                             np.arange(0, muons.pt.content.size)) - muons.pt.offsets[:-1]\n",
    "    electrons_indices = ak.JaggedArray.fromoffsets(electrons.pt.offsets, \n",
    "                                             np.arange(0, electrons.pt.content.size)) - electrons.pt.offsets[:-1]\n",
    "    # Assign 0/1 value depending on whether lepton is muon/electron.\n",
    "    muons_p4 = make_labeled_p4(muons, muons_indices, 0)\n",
    "    electrons_p4 = make_labeled_p4(electrons, electrons_indices, 1)\n",
    "    # Concatenate leptons.\n",
    "    stacked_p4 = ak.concatenate((muons_p4, electrons_p4), axis=1)\n",
    "    \n",
    "    return stacked_p4\n",
    "\n"
   ]
  },
  {
   "cell_type": "code",
   "execution_count": 3,
   "metadata": {},
   "outputs": [],
   "source": [
    "# This program plots the transverse mass of MET and a third lepton, where the third lepton is associated with a lepton pair\n",
    "# that has the same flavor, opposite charge, and closest mass to 91.2.\n",
    "\n",
    "import math\n",
    "\n",
    "class Processor(processor.ProcessorABC):\n",
    "    def __init__(self):\n",
    "        dataset_axis = hist.Cat(\"dataset\", \"MET and Third Lepton\")\n",
    "        muon_axis = hist.Bin(\"massT\", \"Transverse Mass\", 50, 15, 250)\n",
    "        \n",
    "        self._accumulator = processor.dict_accumulator({\n",
    "            'massT': hist.Hist(\"Counts\", dataset_axis, muon_axis),\n",
    "            'cutflow': processor.defaultdict_accumulator(int)\n",
    "        })\n",
    "    \n",
    "    @property\n",
    "    def accumulator(self):\n",
    "        return self._accumulator\n",
    "    \n",
    "    def process(self, events):\n",
    "        output = self.accumulator.identity()\n",
    "        \n",
    "        dataset = events.metadata[\"dataset\"]\n",
    "\n",
    "        muons = events.Muon\n",
    "        electrons = events.Electron\n",
    "        MET = events.MET\n",
    "        \n",
    "        # A few reasonable muon and electron selection cuts\n",
    "        muons = muons[(muons.pt > 10) & (np.abs(muons.eta) < 2.4)]\n",
    "        electrons = electrons[(electrons.pt > 10) & (np.abs(electrons.eta) < 2.5)]\n",
    "\n",
    "        leptons = stack_leptons(muons, electrons)\n",
    "        \n",
    "        # Filter out events with less than 3 leptons.\n",
    "        MET = MET[leptons.counts >= 3]\n",
    "        trileptons = leptons[leptons.counts >= 3]\n",
    "        \n",
    "        # Generate the indices of every pair; indices because we'll be removing these elements later.\n",
    "        lepton_pairs = trileptons.argchoose(2)\n",
    "        \n",
    "        # Select pairs that are SFOS.\n",
    "        SFOS_pairs = lepton_pairs[(trileptons[lepton_pairs.i0].flavor == trileptons[lepton_pairs.i1].flavor) & (trileptons[lepton_pairs.i0].charge != trileptons[lepton_pairs.i1].charge)]\n",
    "        \n",
    "        # Find the pair with mass closest to Z.\n",
    "        closest_pairs = SFOS_pairs[np.abs((trileptons[SFOS_pairs.i0].p4 + trileptons[SFOS_pairs.i1].p4).mass - 91.2).argmin()]\n",
    "        \n",
    "        # Remove elements of these pairs from leptons by negating the indices.\n",
    "        is_in_pair_mask = trileptons[~closest_pairs.i0 | ~closest_pairs.i1]\n",
    "        \n",
    "        # Find the highest-pt lepton out of the ones that remain.\n",
    "        leading_lepton = trileptons[trileptons.p4.pt.argmax()]\n",
    "        \n",
    "        # Can't cross MET with leading_lepton, but we need both phi and pt. So we build a crossable table.\n",
    "        MET_tab = ak.JaggedArray.fromcounts(np.ones_like(MET.pt, dtype=np.int), ak.Table({'phi': MET.phi, 'pt': MET.pt}))\n",
    "        met_plus_lep = MET_tab.cross(leading_lepton)\n",
    "        \n",
    "        # Do some math to get what we want.\n",
    "        dphi_met_lep = (met_plus_lep.i0.phi - met_plus_lep.i1.p4.phi + math.pi) % (2*math.pi) - math.pi\n",
    "        mt_lep = np.sqrt(2.0*met_plus_lep.i0.pt*met_plus_lep.i1.p4.pt*(1.0-np.cos(dphi_met_lep)))\n",
    "        \n",
    "        output['massT'].fill(dataset=dataset, massT=mt_lep.flatten())\n",
    "        \n",
    "        return output\n",
    "\n",
    "    def postprocess(self, accumulator):\n",
    "        return accumulator"
   ]
  },
  {
   "cell_type": "code",
   "execution_count": 4,
   "metadata": {},
   "outputs": [
    {
     "name": "stdout",
     "output_type": "stream",
     "text": [
      "[########################################] | 100% Completed |  1min 29.8s\r"
     ]
    }
   ],
   "source": [
    "fileset = {'SingleMu' : [\"root://eospublic.cern.ch//eos/root-eos/benchmark/Run2012B_SingleMu.root\"]}\n",
    "\n",
    "from dask.distributed import Client\n",
    "\n",
    "client = Client(\"tls://localhost:8786\")\n",
    "\n",
    "output = processor.run_uproot_job(fileset=fileset, \n",
    "                       treename=\"Events\", \n",
    "                       processor_instance=Processor(),\n",
    "                       executor=processor.dask_executor,\n",
    "                       executor_args={'client': client, 'nano': True},\n",
    "                       chunksize=250000)"
   ]
  },
  {
   "cell_type": "code",
   "execution_count": 5,
   "metadata": {},
   "outputs": [
    {
     "data": {
      "text/plain": [
       "<AxesSubplot:xlabel='Transverse Mass', ylabel='Counts'>"
      ]
     },
     "execution_count": 5,
     "metadata": {},
     "output_type": "execute_result"
    },
    {
     "data": {
      "image/png": "[encoded data removed]",
      "text/plain": [
       "<Figure size 432x288 with 1 Axes>"
      ]
     },
     "metadata": {
      "needs_background": "light"
     },
     "output_type": "display_data"
    }
   ],
   "source": [
    "hist.plot1d(output['massT'], overlay='dataset', fill_opts={'edgecolor': (0,0,0,0.3), 'alpha': 0.8})\n",
    "#ax.set_yscale('log')\n",
    "#ax.set_ylim(0.1, 2e5)"
   ]
  },
  {
   "cell_type": "code",
   "execution_count": 6,
   "metadata": {},
   "outputs": [],
   "source": [
    "for key, value in output['cutflow'].items():\n",
    "    print(key, value)"
   ]
  }
 ],
 "metadata": {
  "kernelspec": {
   "display_name": "Python 3",
   "language": "python",
   "name": "python3"
  },
  "language_info": {
   "codemirror_mode": {
    "name": "ipython",
    "version": 3
   },
   "file_extension": ".py",
   "mimetype": "text/x-python",
   "name": "python",
   "nbconvert_exporter": "python",
   "pygments_lexer": "ipython3",
   "version": "3.8.5"
  }
 },
 "nbformat": 4,
 "nbformat_minor": 4
}
