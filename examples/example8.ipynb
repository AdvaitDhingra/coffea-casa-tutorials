{
 "cells": [
  {
   "cell_type": "code",
   "execution_count": 1,
   "metadata": {},
   "outputs": [],
   "source": [
    "import numpy as np\n",
    "%matplotlib inline\n",
    "from coffea import hist\n",
    "import coffea.processor as processor\n",
    "import awkward as ak"
   ]
  },
  {
   "cell_type": "code",
   "execution_count": 2,
   "metadata": {},
   "outputs": [],
   "source": [
    "# This program plots the transverse mass of MET and a third lepton, where the third lepton is associated with a lepton pair\n",
    "# that has the same flavor, opposite charge, and closest mass to 91.2.\n",
    "\n",
    "import math\n",
    "\n",
    "class Processor(processor.ProcessorABC):\n",
    "    def __init__(self):\n",
    "        dataset_axis = hist.Cat(\"dataset\", \"MET and Third Lepton\")\n",
    "        muon_axis = hist.Bin(\"massT\", \"Transverse Mass\", 50, 15, 250)\n",
    "        \n",
    "        self._accumulator = processor.dict_accumulator({\n",
    "            'massT': hist.Hist(\"Counts\", dataset_axis, muon_axis),\n",
    "            'cutflow': processor.defaultdict_accumulator(int)\n",
    "        })\n",
    "    \n",
    "    @property\n",
    "    def accumulator(self):\n",
    "        return self._accumulator\n",
    "    \n",
    "    def process(self, events):\n",
    "        output = self.accumulator.identity()\n",
    "        \n",
    "        dataset = events.metadata[\"dataset\"]\n",
    "\n",
    "        # Keep track of muons and electrons by tagging them 0/1.\n",
    "        muons = ak.with_field(events.Muon, 0, 'flavor')\n",
    "        electrons = ak.with_field(events.Electron, 1, 'flavor')\n",
    "        MET = events.MET\n",
    "        \n",
    "        # A few reasonable muon and electron selection cuts\n",
    "        muons = muons[(muons.pt > 10) & (np.abs(muons.eta) < 2.4)]\n",
    "        electrons = electrons[(electrons.pt > 10) & (np.abs(electrons.eta) < 2.5)]\n",
    "\n",
    "        # Stack muons and electrons into a single array.\n",
    "        leptons = ak.with_name(ak.concatenate([muons, electrons], axis=1), 'PtEtaPhiMCandidate')\n",
    "        \n",
    "        # Filter out events with less than 3 leptons.\n",
    "        trileptons = leptons[ak.num(leptons, axis=1) >= 3]\n",
    "        \n",
    "        # Generate the indices of every pair; indices because we'll be removing these elements later.\n",
    "        lepton_pairs = ak.argcombinations(trileptons, 2, fields=['i0', 'i1'])\n",
    "        \n",
    "        # Select pairs that are SFOS.\n",
    "        SFOS_pairs = lepton_pairs[(trileptons[lepton_pairs['i0']].flavor == trileptons[lepton_pairs['i1']].flavor) & (trileptons[lepton_pairs['i0']].charge != trileptons[lepton_pairs['i1']].charge)]\n",
    "        \n",
    "        # Find the pair with mass closest to Z.\n",
    "        closest_pairs = SFOS_pairs[ak.local_index(SFOS_pairs) == ak.argmin(np.abs((trileptons[SFOS_pairs['i0']] + trileptons[SFOS_pairs['i1']]).mass - 91.2), axis=1)]\n",
    "        \n",
    "        # Make trileptons and closest_pairs have same shape. First, fill nones with empty arrays. Then filter out events that don't meet the pair requirement.\n",
    "        closest_pairs = ak.fill_none(closest_pairs, [])\n",
    "        closest_pairs = closest_pairs[ak.num(closest_pairs) > 0]\n",
    "        trileptons = trileptons[ak.num(closest_pairs) > 0]\n",
    "        MET = MET[ak.num(closest_pairs) > 0]\n",
    "        \n",
    "        # Remove elements of these pairs from leptons.\n",
    "        trileptons_no_pair = trileptons[(ak.local_index(trileptons) != ak.flatten(closest_pairs.i0)) & (ak.local_index(trileptons) != ak.flatten(closest_pairs.i1))]\n",
    "        \n",
    "        # Find the highest-pt lepton out of the ones that remain.\n",
    "        leading_lepton = trileptons_no_pair[ak.argmax(trileptons_no_pair.pt, axis=1)]\n",
    "        \n",
    "        # Cross MET with the leading lepton.\n",
    "        met_plus_lep = ak.cartesian({'i0': MET, 'i1': leading_lepton})\n",
    "        \n",
    "        # Do some math to get what we want.\n",
    "        dphi_met_lep = (met_plus_lep.i0.phi - met_plus_lep.i1.phi + math.pi) % (2*math.pi) - math.pi\n",
    "        mt_lep = np.sqrt(2.0*met_plus_lep.i0.pt*met_plus_lep.i1.pt*(1.0-np.cos(dphi_met_lep)))\n",
    "        \n",
    "        output['massT'].fill(dataset=dataset, massT=ak.flatten(mt_lep))\n",
    "        \n",
    "        return output\n",
    "\n",
    "    def postprocess(self, accumulator):\n",
    "        return accumulator"
   ]
  },
  {
   "cell_type": "code",
   "execution_count": 3,
   "metadata": {},
   "outputs": [
    {
     "data": {
      "application/vnd.jupyter.widget-view+json": {
       "model_id": "ce436851cfca4f5b937bc7eef5252d5d",
       "version_major": 2,
       "version_minor": 0
      },
      "text/plain": [
       "Preprocessing:   0%|          | 0/1 [00:00<?, ?file/s]"
      ]
     },
     "metadata": {},
     "output_type": "display_data"
    },
    {
     "data": {
      "application/vnd.jupyter.widget-view+json": {
       "model_id": "e7407df2b7d04be7869d779afeccc81c",
       "version_major": 2,
       "version_minor": 0
      },
      "text/plain": [
       "Processing:   0%|          | 0/214 [00:00<?, ?chunk/s]"
      ]
     },
     "metadata": {},
     "output_type": "display_data"
    },
    {
     "name": "stderr",
     "output_type": "stream",
     "text": [
      "/opt/conda/lib/python3.8/site-packages/coffea/nanoevents/schemas/nanoaod.py:133: RuntimeWarning: Parsing indexer Electron_genPartIdx, expected to find collection GenPart but did not\n",
      "  warnings.warn(str(problem), RuntimeWarning)\n",
      "/opt/conda/lib/python3.8/site-packages/coffea/nanoevents/schemas/nanoaod.py:133: RuntimeWarning: Parsing indexer Muon_genPartIdx, expected to find collection GenPart but did not\n",
      "  warnings.warn(str(problem), RuntimeWarning)\n",
      "/opt/conda/lib/python3.8/site-packages/coffea/nanoevents/schemas/nanoaod.py:133: RuntimeWarning: Parsing indexer Photon_genPartIdx, expected to find collection GenPart but did not\n",
      "  warnings.warn(str(problem), RuntimeWarning)\n",
      "/opt/conda/lib/python3.8/site-packages/coffea/nanoevents/schemas/nanoaod.py:133: RuntimeWarning: Parsing indexer Tau_genPartIdx, expected to find collection GenPart but did not\n",
      "  warnings.warn(str(problem), RuntimeWarning)\n",
      "/opt/conda/lib/python3.8/site-packages/awkward/_connect/_numpy.py:154: RuntimeWarning: invalid value encountered in sqrt\n",
      "  result = getattr(ufunc, method)(\n"
     ]
    }
   ],
   "source": [
    "fileset = {'SingleMu' : [\"root://eospublic.cern.ch//eos/root-eos/benchmark/Run2012B_SingleMu.root\"]}\n",
    "\n",
    "# Our file is missing some cross-references, so we have to make NanoAOD push warnings instead of erroring out.\n",
    "# This ultimately isn't a problem, it's just a constraint of the public NanoAOD we're using.\n",
    "processor.NanoAODSchema.warn_missing_crossrefs = True\n",
    "\n",
    "output = processor.run_uproot_job(fileset=fileset, \n",
    "                       treename=\"Events\", \n",
    "                       processor_instance=Processor(),\n",
    "                       executor=processor.futures_executor,\n",
    "                       executor_args={'schema': processor.NanoAODSchema},\n",
    "                       chunksize=250000)"
   ]
  },
  {
   "cell_type": "code",
   "execution_count": 4,
   "metadata": {},
   "outputs": [
    {
     "data": {
      "text/plain": [
       "<AxesSubplot:xlabel='Transverse Mass', ylabel='Counts'>"
      ]
     },
     "execution_count": 4,
     "metadata": {},
     "output_type": "execute_result"
    },
    {
     "data": {
      "image/png": "[encoded data removed]",
      "text/plain": [
       "<Figure size 432x288 with 1 Axes>"
      ]
     },
     "metadata": {
      "needs_background": "light"
     },
     "output_type": "display_data"
    }
   ],
   "source": [
    "hist.plot1d(output['massT'], overlay='dataset', fill_opts={'edgecolor': (0,0,0,0.3), 'alpha': 0.8})"
   ]
  },
  {
   "cell_type": "code",
   "execution_count": 5,
   "metadata": {},
   "outputs": [],
   "source": [
    "for key, value in output['cutflow'].items():\n",
    "    print(key, value)"
   ]
  }
 ],
 "metadata": {
  "kernelspec": {
   "display_name": "Python 3",
   "language": "python",
   "name": "python3"
  },
  "language_info": {
   "codemirror_mode": {
    "name": "ipython",
    "version": 3
   },
   "file_extension": ".py",
   "mimetype": "text/x-python",
   "name": "python",
   "nbconvert_exporter": "python",
   "pygments_lexer": "ipython3",
   "version": "3.8.8"
  }
 },
 "nbformat": 4,
 "nbformat_minor": 4
}
