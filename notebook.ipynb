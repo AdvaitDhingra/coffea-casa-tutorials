{
 "cells": [
  {
   "cell_type": "markdown",
   "metadata": {},
   "source": [
    "<h1><u>PyHEP 2020: <i>Columnar Analysis at Scale with Coffea</i></u></h1>\n",
    "<h2>Authors</h2>\n",
    "<b>Presenter:</b> Mat Adamec (<i>UNL</i>)\n",
    "<br/>\n",
    "<br/>\n",
    "<b>coffea:</b>\n",
    "<br/>\n",
    "<a href=\"https://doi.org/10.5281/zenodo.3899563\"><img src=\"https://zenodo.org/badge/DOI/10.5281/zenodo.3899563.svg\" alt=\"DOI\" align=\"left\"></a>\n",
    "<br/>\n",
    "    <ul>\n",
    "        <li>Lindsey Gray, Matteo Cremonesi, Bo Jayatilaka, Oliver Gutsche, Nick Smith, Allison Hall, Kevin Pedro, Maria Acosta <i>(FNAL)</i>; Andrew Melo <i>(Vanderbilt)</i>; Stefano Belforte <i>(INFN)</i>; and others</li>\n",
    "        <li>In collaboration with IRIS-HEP members: Jim Pivarski <i>(Princeton)</i>, Ben Galewsky <i>(NCSA)</i>, Mark Neubauer <i>(UIUC)</i></li>\n",
    "        <br/>\n",
    "    </ul>\n",
    "<b>coffea-casa:</b>\n",
    "    <ul>\n",
    "        <li>Ken Bloom, Oksana Shadura <i>(UNL)</i>; Garhan Attebury, Carl Lundstedt, Derek Wietzel <i>(UNL-HCC)</i>; Mátyás Selmeci <i>(UWM)</i>; Brian Bockelman <i>(Morgridge Institute)</i></li>\n",
    "    </ul>\n",
    "<hr />\n",
    "<h2>Introduction</h2>\n",
    "<p>This tutorial is intended to be a walkthrough of the foundations of an analysis implemented in Coffea (specifically, single top-Higgs production, <a href=\"https://doi.org/10.1103/PhysRevD.99.092005\">https://doi.org/10.1103/PhysRevD.99.092005</a>). We will go through data selection using a columnar representation, go over some edge cases to that representation, and plot some relevant data. At the end, we will wrap everything together and demonstrate how Coffea can be easily deployed for scaling an analysis up. This is also a prime opportunity to show off a prototype analysis facility being developed by the coffea-casa team, which was presented yesterday by Oksana Shadura (\"<a href=\"https://indico.cern.ch/event/882824/timetable/#43-a-prototype-us-cms-analysis\">A prototype U.S. CMS analysis facility</a>\").</p>\n",
    "\n",
    "\n",
    "<h2>Review</h2>\n",
    "<p>For the purposes of this tutorial, we will load in a sample file used in the analysis, as well as NanoEvents from the Coffea package. A <a href=\"https://indico.cern.ch/event/882824/timetable/#30-the-nanoevents-object\">NanoEvents tutorial</a> was given on Monday by Nick Smith, but I will give a quick review of its basics.</p>"
   ]
  },
  {
   "cell_type": "code",
   "execution_count": 1,
   "metadata": {},
   "outputs": [],
   "source": [
    "try:\n",
    "    import numpy as np\n",
    "except ImportError as e:\n",
    "    !pip install numpy\n",
    "    import numpy as np\n",
    "\n",
    "try:\n",
    "    from coffea.nanoaod import NanoEvents\n",
    "except ImportError as e:\n",
    "    !conda install -c conda-forge xrootd --yes\n",
    "    !pip install coffea\n",
    "    from coffea.nanoaod import NanoEvents\n",
    "    \n",
    "try:\n",
    "    import numba as nb\n",
    "except ImportError as e:\n",
    "    !pip install numba\n",
    "    import numba as nb\n",
    "\n",
    "import time\n",
    "\n",
    "file = \"root://xrootd.unl.edu//store/mc/RunIISummer16NanoAODv5/THQ_Hincl_13TeV-madgraph-pythia8_TuneCUETP8M1/NANOAODSIM/PUMoriond17_Nano1June2019_102X_mcRun2_asymptotic_v7-v1/100000/38E83594-51BD-7D46-B96D-620DD60078A7.root\"\n",
    "events = NanoEvents.from_file(file, entrystop=100000)"
   ]
  },
  {
   "cell_type": "markdown",
   "metadata": {},
   "source": [
    "<p>NanoEvents lazily reads <code>file</code> into a jagged array structure (specifically, an <a href=\"https://github.com/scikit-hep/awkward-array\">awkward array</a>), <code>events</code>. We can poke around <code>events</code> by looking at the <code>.columns</code> attribute, which tells us all of the possible fields we can access.</p>"
   ]
  },
  {
   "cell_type": "code",
   "execution_count": 2,
   "metadata": {},
   "outputs": [
    {
     "name": "stdout",
     "output_type": "stream",
     "text": [
      "[<event 0> <event 1> <event 2> ... <event 99997> <event 99998> <event 99999>]\n",
      "\n",
      "\n",
      "['fixedGridRhoFastjetCentralChargedPileUp', 'LHEScaleWeight', 'ChsMET', 'genTtbarId', 'SV', 'Generator', 'LHEPart', 'GenDressedLepton', 'run', 'L1PreFiringWeight', 'SoftActivityJetNjets2', 'Photon', 'Electron', 'OtherPV', 'L1', 'genWeight', 'PSWeight', 'fixedGridRhoFastjetCentralNeutral', 'Tau', 'GenMET', 'LHE', 'RawMET', 'MET', 'SoftActivityJetHT5', 'SoftActivityJetHT2', 'FatJet', 'SoftActivityJetHT10', 'IsoTrack', 'Muon', 'Jet', 'SoftActivityJetHT', 'luminosityBlock', 'Pileup', 'GenPart', 'fixedGridRhoFastjetCentral', 'CorrT1METJet', 'GenJetAK8', 'GenVisTau', 'LHEReweightingWeight', 'SoftActivityJetNjets10', 'HLTriggerFinalPath', 'SubJet', 'TkMET', 'Flag', 'PuppiMET', 'LHEPdfWeight', 'SubGenJetAK8', 'GenJet', 'fixedGridRhoFastjetCentralCalo', 'SoftActivityJet', 'L1simulation', 'btagWeight', 'fixedGridRhoFastjetAll', 'TrigObj', 'event', 'HTXS', 'HLTriggerFirstPath', 'PV', 'CaloMET', 'LHEWeight', 'SoftActivityJetNjets5', 'HLT']\n"
     ]
    }
   ],
   "source": [
    "print(events)\n",
    "print('\\n')\n",
    "print(events.columns)"
   ]
  },
  {
   "cell_type": "markdown",
   "metadata": {},
   "source": [
    "<p>These fields can be accessed as attributes of the event array. For example, to peek at <code>Muon</code>:</p>"
   ]
  },
  {
   "cell_type": "code",
   "execution_count": 3,
   "metadata": {},
   "outputs": [
    {
     "name": "stdout",
     "output_type": "stream",
     "text": [
      "[[<Muon 0> <Muon 1>] [] [<Muon 2>] ... [<Muon 100913> <Muon 100914> <Muon 100915> <Muon 100916>] [<Muon 100917>] [<Muon 100918>]]\n",
      "100000\n"
     ]
    }
   ],
   "source": [
    "print(events.Muon)\n",
    "print(events.Muon.size)"
   ]
  },
  {
   "cell_type": "markdown",
   "metadata": {},
   "source": [
    "You can do this for any of the event columns listed above. Pick one out and try it in the cell below!"
   ]
  },
  {
   "cell_type": "code",
   "execution_count": null,
   "metadata": {},
   "outputs": [],
   "source": []
  },
  {
   "cell_type": "markdown",
   "metadata": {},
   "source": [
    "<p>A note about structure: notice that <code>events.Muon</code> is jagged; it is an array of subarrays, which have arbitrary length (they can even be empty)! The only thing that's necessary is that each event has one subarray. As we can see above, in our example some subarrays have one muon, some have two, some have none, some even have four; the total, however, is 100919 muons, spread across 100000 subarrays.</p>\n",
    "\n",
    "<p>The <code>Muon</code> array also has further depth to it (most event columns do!) We can look at its columns just as we did with the events array, and we can access any of them as an attribute of <code>events.Muon</code>. As an example, pt:"
   ]
  },
  {
   "cell_type": "code",
   "execution_count": 4,
   "metadata": {},
   "outputs": [
    {
     "name": "stdout",
     "output_type": "stream",
     "text": [
      "['dxy', 'dxyErr', 'dz', 'dzErr', 'eta', 'ip3d', 'jetPtRelv2', 'jetRelIso', 'mass', 'miniPFRelIso_all', 'miniPFRelIso_chg', 'pfRelIso03_all', 'pfRelIso03_chg', 'pfRelIso04_all', 'phi', 'pt', 'ptErr', 'segmentComp', 'sip3d', 'tkRelIso', 'tunepRelPt', 'mvaLowPt', 'mvaTTH', 'charge', 'nStations', 'nTrackerLayers', 'pdgId', 'tightCharge', 'highPtId', 'inTimeMuon', 'isGlobal', 'isPFcand', 'isTracker', 'looseId', 'mediumId', 'mediumPromptId', 'miniIsoId', 'multiIsoId', 'mvaId', 'pfIsoId', 'softId', 'softMvaId', 'tightId', 'tkIsoId', 'triggerIdLoose', 'genPartFlav', 'cleanmask', 'matched_jet', 'matched_gen']\n",
      "\n",
      "\n",
      "[[48.43083 32.657864] [] [61.244366] ... [49.568356 24.632607 11.763041 3.9598055] [3.946702] [17.98306]]\n"
     ]
    }
   ],
   "source": [
    "print(events.Muon.columns)\n",
    "print('\\n')\n",
    "print(events.Muon.pt)"
   ]
  },
  {
   "cell_type": "markdown",
   "metadata": {},
   "source": [
    "Now, we can access data, but how do we manipulate it? Possibly the most critical component of columnar analysis is the concept of masking. A mask is an array of booleans, which another array can be masked by, thus accepting or rejecting elements of that array based on whether the corresponding mask element is <code>True</code> or <code>False</code>. A basic example below:"
   ]
  },
  {
   "cell_type": "code",
   "execution_count": 5,
   "metadata": {},
   "outputs": [
    {
     "data": {
      "text/plain": [
       "array(['a', 'b', 'c'], dtype='<U1')"
      ]
     },
     "execution_count": 5,
     "metadata": {},
     "output_type": "execute_result"
    }
   ],
   "source": [
    "data = np.array(['a', 'b', 'd', 'c'])\n",
    "mask = np.array([True, True, False, True])\n",
    "\n",
    "data[mask]"
   ]
  },
  {
   "cell_type": "markdown",
   "metadata": {},
   "source": [
    "<p>We can generate a mask by executing a conditional statement involving any of our awkward arrays. Let's say we want to select muons whose pt > 40:</p>"
   ]
  },
  {
   "cell_type": "code",
   "execution_count": 6,
   "metadata": {},
   "outputs": [
    {
     "name": "stdout",
     "output_type": "stream",
     "text": [
      "Unmasked data:\n",
      "[[48.43083 32.657864] [] [61.244366] ... [49.568356 24.632607 11.763041 3.9598055] [3.946702] [17.98306]]\n",
      "\n",
      "Mask of data:\n",
      "[[True False] [] [True] ... [True False False False] [False] [False]]\n",
      "\n",
      "Masked data:\n",
      "[[48.43083] [] [61.244366] ... [49.568356] [] []]\n"
     ]
    }
   ],
   "source": [
    "muons = events.Muon\n",
    "\n",
    "print('Unmasked data:')\n",
    "print(muons.pt)\n",
    "\n",
    "print('\\nMask of data:')\n",
    "print(muons.pt > 40)\n",
    "\n",
    "print('\\nMasked data:')\n",
    "print(muons.pt[muons.pt > 40])"
   ]
  },
  {
   "cell_type": "markdown",
   "metadata": {},
   "source": [
    "We will employ masking in our analysis to reject leptons and events which do not meet the cuts that we desire."
   ]
  },
  {
   "cell_type": "markdown",
   "metadata": {},
   "source": [
    "<h2>Lepton Selection</h2>\n",
    "<p>Let's now begin with some lepton selectionn, which lends itself towards a simple columnar implementation. We will begin with muons, which have relatively straight-forward cuts, and show off some more complexity with electrons. All tables of cuts are taken from the single top-Higgs analysis mentioned above.<p>\n",
    "\n",
    "<h3><center>Muon Selection</center></h3>\n",
    "\n",
    "| Cut                      | Loose        | Tight          |\n",
    "|--------------------------|--------------|----------------|\n",
    "| $|\\eta|$ < 2.4             | $\\checkmark$ | $\\checkmark$ |\n",
    "| $p_T$                    | > 5 GeV      | > 15 GeV       |\n",
    "| \\|$d_{xy}$\\| < 0.05 (cm) | $\\checkmark$ | $\\checkmark$   |\n",
    "| \\|$d_z$\\| < 0.1 (cm)     | $\\checkmark$ | $\\checkmark$   |\n",
    "| SIP$_{3D}$ < 8           | $\\checkmark$ | $\\checkmark$   |\n",
    "| I$_{mini}$ < 0.4         | $\\checkmark$ | $\\checkmark$   |\n",
    "| is Loose Muon            | $\\checkmark$ | $\\checkmark$   |\n",
    "| is Medium Muon           | -            | $\\checkmark$   |\n",
    "| tight-charge             | -            | $\\checkmark$   |\n",
    "| lepMVA > 0.90            | -            | $\\checkmark$   |\n",
    "\n",
    "How would we make these cuts with our columnar tools? An easy three-step plan: \n",
    "<ol>\n",
    "    <li>generate a mask for each condition</li>\n",
    "    <li>combine them together into a single mask</li>\n",
    "    <li>mask the muon array with the final mask</li>\n",
    "</ol>\n",
    "\n",
    "In practice, we can skip the second step by stringing our conditionals together with &'s. A quick warning: for masks in Coffea, '&' should always be used over 'and,' as the latter is considered ambiguous. This is an underlying quirk of numpy.\n",
    "\n",
    "<p>The only intermediate step is figuring out which columns you need and how they are structured; I've left in an extra cell if you want to poke at any specific ones.</p>"
   ]
  },
  {
   "cell_type": "code",
   "execution_count": 7,
   "metadata": {
    "scrolled": true
   },
   "outputs": [],
   "source": [
    "loose_muons = muons[(np.abs(muons.eta) < 2.4) &\n",
    "                    (muons.pt > 5) &\n",
    "                    (np.abs(muons.dxy) < 0.05) &\n",
    "                    (np.abs(muons.dz) < 0.1) &\n",
    "                    (muons.sip3d < 8) &\n",
    "                    (muons.miniPFRelIso_all < 0.4) &\n",
    "                    (muons.looseId)]\n",
    "                    # Note that no other cuts are necessary for loose muons!\n",
    "\n",
    "# To construct the tight selection, we may as well make use of the loose cut, since they overlap.\n",
    "tight_muons = loose_muons[(loose_muons.pt > 15) &\n",
    "                         (loose_muons.mediumId) &\n",
    "                         (loose_muons.tightCharge > 1) &\n",
    "                         (loose_muons.mvaTTH > 0.9)]"
   ]
  },
  {
   "cell_type": "code",
   "execution_count": 8,
   "metadata": {},
   "outputs": [
    {
     "name": "stdout",
     "output_type": "stream",
     "text": [
      "['dxy', 'dxyErr', 'dz', 'dzErr', 'eta', 'ip3d', 'jetPtRelv2', 'jetRelIso', 'mass', 'miniPFRelIso_all', 'miniPFRelIso_chg', 'pfRelIso03_all', 'pfRelIso03_chg', 'pfRelIso04_all', 'phi', 'pt', 'ptErr', 'segmentComp', 'sip3d', 'tkRelIso', 'tunepRelPt', 'mvaLowPt', 'mvaTTH', 'charge', 'nStations', 'nTrackerLayers', 'pdgId', 'tightCharge', 'highPtId', 'inTimeMuon', 'isGlobal', 'isPFcand', 'isTracker', 'looseId', 'mediumId', 'mediumPromptId', 'miniIsoId', 'multiIsoId', 'mvaId', 'pfIsoId', 'softId', 'softMvaId', 'tightId', 'tkIsoId', 'triggerIdLoose', 'genPartFlav', 'cleanmask', 'matched_jet', 'matched_gen']\n",
      "\n",
      "\n",
      "[[True True] [] [True] ... [True False False True] [True] [True]]\n"
     ]
    }
   ],
   "source": [
    "print(muons.columns)\n",
    "print('\\n')\n",
    "print(muons.mediumId)"
   ]
  },
  {
   "cell_type": "markdown",
   "metadata": {},
   "source": [
    "<p>Let's do the same thing for electrons, which are slightly complicated because some of the cuts fall into a set of two ranges: 0 < |$\\eta$| < 1.479 and 1.479 < |$\\eta$| < 2.5. These are listed respectively in parentheses: (<i>range 1, range 2</i>).</p>\n",
    "\n",
    "<h3><center>Electron Selection</center></h3>\n",
    "\n",
    "| Cut                                     | Loose        | Tight        |\n",
    "|-----------------------------------------|--------------|--------------|\n",
    "| $\\eta$ < 2.5                            | $\\checkmark$ | $\\checkmark$ |\n",
    "| $p_T$                                   | > 7 GeV      | > 15 GeV     |\n",
    "| \\|$d_{xy}$\\| < 0.05 (cm)                | $\\checkmark$ | $\\checkmark$ |\n",
    "| \\|$d_z$\\| < 0.1 (cm)                    | $\\checkmark$ | $\\checkmark$ |\n",
    "| I$_{mini}$ < 0.4                        | $\\checkmark$ | $\\checkmark$ |\n",
    "| Number of missing hits                  | < 2          | == 0         |\n",
    "| tight-charge                            | -            | $\\checkmark$ |\n",
    "| conversion rejection                    | -            | $\\checkmark$ |\n",
    "| lepMVA > 0.90                           | -            | $\\checkmark$ |\n",
    "| MVA ID > (0.0, 0.7)                     | $\\checkmark$ | $\\checkmark$ |\n",
    "| $\\sigma_{i\\eta i\\eta}$ < (0.011, 0.030) | -            | $\\checkmark$ |\n",
    "| H/E < (0.10, 0.07)                      | -            | $\\checkmark$ |\n",
    "| -0.05 < 1/E - 1/p < (0.010, 0.005)      | -            | $\\checkmark$ |\n",
    "\n",
    "A cell has been provided, again, for column-prodding purposes."
   ]
  },
  {
   "cell_type": "code",
   "execution_count": 9,
   "metadata": {},
   "outputs": [],
   "source": [
    "electrons = events.Electron\n",
    "\n",
    "# This ends up getting referenced a lot. Let's not generate it every time!\n",
    "abs_eta = np.abs(electrons.eta)\n",
    "\n",
    "loose_electrons = electrons[(abs_eta < 2.5) &\n",
    "                           (electrons.pt > 7) &\n",
    "                           (np.abs(electrons.dxy) < 0.05) &\n",
    "                           (np.abs(electrons.dz) < 0.1) &\n",
    "                           (electrons.miniPFRelIso_all < 0.4) &\n",
    "                           (electrons.lostHits < 2) &\n",
    "                           # The scary one, the only one with two ranges in loose selection. \n",
    "                           (((electrons.mvaFall17V2noIso > 0) & (abs_eta < 1.479)) |\n",
    "                            ((electrons.mvaFall17V2noIso > 0.7) & (abs_eta > 1.479) & (abs_eta < 2.5)))]\n",
    "\n",
    "# Again, all tight leptons pass the loose cut, so we may as well cut down on passing the same cuts twice.\n",
    "# But we'll have to redefine abs_eta again!\n",
    "abs_eta = np.abs(loose_electrons.eta)\n",
    "\n",
    "tight_electrons = loose_electrons[(loose_electrons.pt > 15) &\n",
    "                                 (loose_electrons.lostHits == 0) &\n",
    "                                 (loose_electrons.tightCharge > 1) &\n",
    "                                 (loose_electrons.convVeto) &\n",
    "                                 (loose_electrons.mvaTTH > 0.90) &\n",
    "                                 # Two ranges for sigma_ieie.\n",
    "                                 (((abs_eta < 1.479) & (loose_electrons.sieie < 0.011)) | \n",
    "                                 ((abs_eta < 2.5) & (abs_eta > 1.479) & (loose_electrons.sieie < 0.03))) &\n",
    "                                 # Two ranges for H/E\n",
    "                                 (((abs_eta < 1.479) & (loose_electrons.hoe < 0.1)) | \n",
    "                                 ((abs_eta < 2.5) & (abs_eta > 1.479) & (loose_electrons.hoe < 0.07))) &\n",
    "                                 # Two ranges for 1/E - 1/p\n",
    "                                 (((abs_eta < 1.479) & (loose_electrons.eInvMinusPInv < 0.01) & (loose_electrons.eInvMinusPInv > -0.05)) |\n",
    "                                 ((abs_eta < 2.5) & (abs_eta > 1.479) & (loose_electrons.eInvMinusPInv < 0.005) & (loose_electrons.eInvMinusPInv > -0.05)))]"
   ]
  },
  {
   "cell_type": "code",
   "execution_count": 10,
   "metadata": {},
   "outputs": [
    {
     "name": "stdout",
     "output_type": "stream",
     "text": [
      "['deltaEtaSC', 'dr03EcalRecHitSumEt', 'dr03HcalDepth1TowerSumEt', 'dr03TkSumPt', 'dr03TkSumPtHEEP', 'dxy', 'dxyErr', 'dz', 'dzErr', 'eCorr', 'eInvMinusPInv', 'energyErr', 'eta', 'hoe', 'ip3d', 'jetPtRelv2', 'jetRelIso', 'mass', 'miniPFRelIso_all', 'miniPFRelIso_chg', 'mvaFall17V1Iso', 'mvaFall17V1noIso', 'mvaFall17V2Iso', 'mvaFall17V2noIso', 'mvaSpring16GP', 'mvaSpring16HZZ', 'pfRelIso03_all', 'pfRelIso03_chg', 'phi', 'pt', 'r9', 'sieie', 'sip3d', 'mvaTTH', 'charge', 'cutBased', 'cutBased_Fall17_V1', 'cutBased_HLTPreSel', 'cutBased_Spring15', 'cutBased_Sum16', 'pdgId', 'tightCharge', 'vidNestedWPBitmap', 'vidNestedWPBitmapSpring15', 'vidNestedWPBitmapSum16', 'convVeto', 'cutBased_HEEP', 'isPFcand', 'lostHits', 'mvaFall17V1Iso_WP80', 'mvaFall17V1Iso_WP90', 'mvaFall17V1Iso_WPL', 'mvaFall17V1noIso_WP80', 'mvaFall17V1noIso_WP90', 'mvaFall17V1noIso_WPL', 'mvaFall17V2Iso_WP80', 'mvaFall17V2Iso_WP90', 'mvaFall17V2Iso_WPL', 'mvaFall17V2noIso_WP80', 'mvaFall17V2noIso_WP90', 'mvaFall17V2noIso_WPL', 'mvaSpring16GP_WP80', 'mvaSpring16GP_WP90', 'mvaSpring16HZZ_WPL', 'seedGain', 'genPartFlav', 'cleanmask', 'matched_jet', 'matched_gen', 'matched_photon']\n",
      "\n",
      "\n",
      "[[] [0 0] [0 0 0] ... [1] [1] []]\n"
     ]
    }
   ],
   "source": [
    "print(events.Electron.columns)\n",
    "print('\\n')\n",
    "print(events.Electron.lostHits)"
   ]
  },
  {
   "cell_type": "markdown",
   "metadata": {},
   "source": [
    "<h2>Event Selections</h2>\n",
    "<p>Okay, now that we've selected some good leptons, let's follow the event selection as prescribed:</p>\n",
    "\n",
    "| Both Channels                                                                                                                                                 \t| Dilepton Channel                              \t| Three-Lepton Channel                          \t|\n",
    "|---------------------------------------------------------------------------------------------------------------------------------------------------------------\t|-----------------------------------------------\t|-----------------------------------------------\t|\n",
    "| One or more jets passing the medium btag working point, with <br><br>$p_T$ > 25 GeV and \\|$\\eta$\\| < 2.4                                                      \t| Exactly two tight same-sign leptons           \t| Exactly three tight leptons                   \t|\n",
    "| One or more jets failing the loose btag working point, with either <br><br>$p_T$ > 25 GeV and \\|$\\eta$\\| < 2.4 <br><br>or $p_T$ > 40 GeV and \\|$\\eta$\\| > 2.4 \t| $p_T$ > 25/15 GeV                             \t| $p_T$ > 25/15/15 GeV                          \t|\n",
    "| No loose leptons with $m_{ll}$ < 12 GeV                                                                                                                       \t| No ee events with \\|$m_{ee} - m_Z$\\| < 10 GeV \t| No OSSF pair with \\|$m_{ll} - m_Z$\\| < 15 GeV \t|\n",
    "|                                                                                                                                                               \t| Muons with $\\Delta p_T / p_T$ < 0.2           \t|                                               \t|\n",
    "\n",
    "We will quickly find that we run into some issues here with our columnar approach. Before diving into those, though, we can get something more column-friendly out of the way: the jet selections for both channels. We'll generate the masks explicitly and just hang on to them for now."
   ]
  },
  {
   "cell_type": "code",
   "execution_count": 11,
   "metadata": {},
   "outputs": [],
   "source": [
    "loose_wp = 0.5425\n",
    "medium_wp = 0.8484\n",
    "        \n",
    "jets = events.Jet\n",
    "\n",
    "jetMask_medium = ((np.abs(jets.eta) < 2.4) & (jets.pt > 25) &\n",
    "                  (jets.btagCSVV2 > medium_wp)).sum() >= 1\n",
    "jetMask_loose = ((((np.abs(jets.eta) < 2.4) & (jets.pt > 25)) | ((jets.pt > 40) & (np.abs(jets.eta) > 2.4))) &\n",
    "                 (jets.btagCSVV2 <= loose_wp)).sum() >= 1"
   ]
  },
  {
   "cell_type": "markdown",
   "metadata": {},
   "source": [
    "<p>Okay, the next challenge we come to is making sure there are \"no loose leptons with $m_{ll} < 12 GeV$.\" A problem immediately arises: how do we work with <b>all</b> pairs? We have an array of muons, we have an array of electrons, but we don't have any simple way to combine them into a singular <code>Lepton</code> object. This is a limitation of columnar analyses: doing selections over combinations of objects is more complex than the single-lepton selections have led us to believe.\n",
    "\n",
    "A brute-force approach might be to generate all possible combinations of our two lepton arrays. For the dilepton channel, that'd look like three arrays: ee, mumu, emu. For the three-lepton channel, it'd look like four: eee, mumumu, emumu, eemu. Do we really want to deal with seven arrays? Worst of all, this problem only grows in size if we want to deal with more than three leptons, and it becomes impossible to solve if we want a selection across an arbitrary amount of leptons.\n",
    "\n",
    "At this point, I made the decision not to get bogged down in columnar operations, and instead to take a more familiar event-loop-like approach. Before going into details, it's important to understand the structure of our <code>Muon</code> and <code>Electron</code> arrays a little more: every jagged array has a <code>.content</code> attribute which removes the jaggedness and returns a flat array, and it also has a <code>.starts</code> and <code>.stops</code> attribute which delineates where a subarray begins and ends.</p>"
   ]
  },
  {
   "cell_type": "code",
   "execution_count": 12,
   "metadata": {},
   "outputs": [
    {
     "name": "stdout",
     "output_type": "stream",
     "text": [
      "Jagged Array:\n",
      "[[] [84.48751 27.30925] [89.66919 9.768386 6.686062] ... [6.7449427] [7.580601] []]\n",
      "\n",
      "Flat Content Array:\n",
      "[84.48751 27.30925 89.66919 ... 95.80427 6.7449427 7.580601]\n",
      "\n",
      "Flat Starts Array:\n",
      "[     0      0      2 ... 128335 128336 128337]\n",
      "\n",
      "Flat Stops Array:\n",
      "[     0      2      5 ... 128336 128337 128337]\n"
     ]
    }
   ],
   "source": [
    "print('Jagged Array:')\n",
    "print(electrons.pt)\n",
    "print('\\nFlat Content Array:')\n",
    "print(electrons.pt.content)\n",
    "print('\\nFlat Starts Array:')\n",
    "print(electrons.pt.starts)\n",
    "print('\\nFlat Stops Array:')\n",
    "print(electrons.pt.stops)"
   ]
  },
  {
   "cell_type": "markdown",
   "metadata": {},
   "source": [
    "<p>This allows us to deconstruct our electron and muon arrays into their constituent event subarrays, which we can then concatenate together to get a per-event lepton array. We can check whether this lepton array meets our event requirements, and return either a <code>True</code> or a <code>False</code>. By looping through every single event, we can construct an event-shaped array of booleans, which will then serve as a mask, allowing us to return to a columnar approach.</p>\n",
    "\n",
    "<p>Okay, that all sounds complicated. Let's implement it for our loose mass pair requirement.</p>"
   ]
  },
  {
   "cell_type": "code",
   "execution_count": 13,
   "metadata": {},
   "outputs": [],
   "source": [
    "from itertools import combinations\n",
    "\n",
    "# This is a helper function which adds up the mass of two 4-vectors based on their components.\n",
    "@nb.njit\n",
    "def massAddition(l1_px, l1_py, l1_pz, l1_E,\n",
    "                 l2_px, l2_py, l2_pz, l2_E):\n",
    "    return np.sqrt((l1_E + l2_E)**2 - \n",
    "                  ((l1_px + l2_px)**2 + \n",
    "                   (l1_py + l2_py)**2 + \n",
    "                   (l1_pz + l2_pz)**2))\n",
    "\n",
    "def looseFilter(loose_e_starts, loose_e_stops, loose_mu_starts, loose_mu_stops,\n",
    "               loose_e_px, loose_e_py, loose_e_pz, loose_e_E,\n",
    "               loose_mu_px, loose_mu_py, loose_mu_pz, loose_mu_E):\n",
    "    \n",
    "    # All events pass by default, if they do not, we turn the 1's to 0's.\n",
    "    final_mask = np.ones(loose_e_starts.size, dtype=np.bool_)\n",
    "    \n",
    "    # With the starts and stops, we can get each event's data per-event, and work with concatenated e's and mu's.\n",
    "    for e_start, e_stop, mu_start, mu_stop, i in zip(loose_e_starts, loose_e_stops, loose_mu_starts, loose_mu_stops, range(0, loose_e_starts.size)):\n",
    "        event_E = np.concatenate((loose_e_E[e_start:e_stop], loose_mu_E[mu_start:mu_stop]))\n",
    "        event_px = np.concatenate((loose_e_px[e_start:e_stop], loose_mu_px[mu_start:mu_stop]))\n",
    "        event_py = np.concatenate((loose_e_py[e_start:e_stop], loose_mu_py[mu_start:mu_stop]))\n",
    "        event_pz = np.concatenate((loose_e_pz[e_start:e_stop], loose_mu_pz[mu_start:mu_stop]))\n",
    "        # This handles empty events.\n",
    "        if event_E.size == 0:\n",
    "            final_mask[i] = 0\n",
    "        # Generate every pair, check that their combined mass is greater than 12 (if not, change 1 to 0 in mask)\n",
    "        for combination in np.array(list(combinations(np.argsort(event_E), 2))):\n",
    "            if 12 > (massAddition(event_px[combination[0]], event_py[combination[0]], event_pz[combination[0]], event_E[combination[0]],\n",
    "                           event_px[combination[1]], event_py[combination[1]], event_pz[combination[1]], event_E[combination[1]])):\n",
    "                final_mask[i] = 0\n",
    "    return final_mask\n",
    "\n",
    "looseMask = looseFilter(loose_electrons.starts, loose_electrons.stops, loose_muons.starts, loose_muons.stops,\n",
    "            loose_electrons.x.content, loose_electrons.y.content, loose_electrons.z.content, loose_electrons.energy.content,\n",
    "            loose_muons.x.content, loose_muons.y.content, loose_muons.z.content, loose_muons.energy.content)"
   ]
  },
  {
   "cell_type": "markdown",
   "metadata": {},
   "source": [
    "Not strictly columnar, but it's more general, the goal is clearer, and Coffea allows us the flexibility. We handle the dilepton and three-lepton channel selections in similar fashion."
   ]
  },
  {
   "cell_type": "code",
   "execution_count": 14,
   "metadata": {},
   "outputs": [],
   "source": [
    "# This is a helper function which determines how far the mass of a pair of leptons is from the Z mass.\n",
    "@nb.njit()\n",
    "def massFromZ(l1_px, l1_py, l1_pz, l1_E,\n",
    "              l2_px, l2_py, l2_pz, l2_E):\n",
    "    mass_Z = 91.1867\n",
    "    mass_ll = massAddition(l1_px, l1_py, l1_pz, l1_E,\n",
    "                           l2_px, l2_py, l2_pz, l2_E)\n",
    "    return np.abs(mass_ll - mass_Z)\n",
    "\n",
    "def leptonChannels(tight_e_starts, tight_e_stops, tight_mu_starts, tight_mu_stops,\n",
    "                tight_e_px, tight_e_py, tight_e_pz, tight_e_E,\n",
    "                tight_mu_px, tight_mu_py, tight_mu_pz, tight_mu_E,\n",
    "                tight_e_pt, tight_mu_pt, e_charge, e_tightCharge, mu_charge, mu_pterr):\n",
    "    dilepton_mask = np.ones(tight_e_starts.size, dtype=np.bool_)\n",
    "    trilepton_mask = np.ones(tight_e_starts.size, dtype=np.bool_)\n",
    "    \n",
    "    for e_start, e_stop, mu_start, mu_stop, i in zip(tight_e_starts, tight_e_stops, tight_mu_starts, tight_mu_stops, range(0, tight_e_starts.size)):\n",
    "        event_pt = np.concatenate((tight_e_pt[e_start:e_stop], tight_mu_pt[mu_start:mu_stop]))\n",
    "        event_mu_ptErr = mu_pterr[mu_start:mu_stop]\n",
    "        event_E = np.concatenate((tight_e_E[e_start:e_stop], tight_mu_E[mu_start:mu_stop]))\n",
    "        event_px = np.concatenate((tight_e_px[e_start:e_stop], tight_mu_px[mu_start:mu_stop]))\n",
    "        event_py = np.concatenate((tight_e_py[e_start:e_stop], tight_mu_py[mu_start:mu_stop]))\n",
    "        event_pz = np.concatenate((tight_e_pz[e_start:e_stop], tight_mu_pz[mu_start:mu_stop]))\n",
    "        event_charge = np.concatenate((e_charge[e_start:e_stop], mu_charge[mu_start:mu_stop]))\n",
    "\n",
    "        flavor = np.empty(3, dtype=str)\n",
    "        \n",
    "        # Events with exactly 2 leptons\n",
    "        if not (event_pt.size == 2):\n",
    "            dilepton_mask[i] = 0\n",
    "        else:\n",
    "            if not ((event_pt.max() > 25) & (event_pt.min() > 15)):\n",
    "                dilepton_mask[i] = 0\n",
    "            if (event_charge[0] != event_charge[1]):\n",
    "                dilepton_mask[i] = 0\n",
    "            if ((tight_e_pt[e_start:e_stop].size == 2) & \n",
    "                (10 > massFromZ(event_px[0], event_py[0], event_pz[0], event_E[0],\n",
    "                                event_px[1], event_py[1], event_pz[1], event_E[1]))\n",
    "               ):\n",
    "                dilepton_mask[i] = 0\n",
    "            # Remove events with muons that have pTErr/pT < 0.2\n",
    "            if ((tight_mu_pt[mu_start:mu_stop].size > 0) & (event_mu_ptErr/tight_mu_pt[mu_start:mu_stop] > 0.2).any()):\n",
    "                dilepton_mask[i] = 0\n",
    "            # Remove events with electrons for which tightCharge is not 2: “Tight charge criteria (0:none, 1:isGsfScPixChargeConsistent, 2:isGsfCtfScPixChargeConsistent)”\n",
    "            #if ((tight_e_pt[e_start:e_stop].size > 0) & (e_tightCharge[e_start:e_stop] != 2).any()):\n",
    "            #    dilepton_mask[i] = 0\n",
    "                \n",
    "        # Events with exactly 3 leptons\n",
    "        if not (event_pt.size == 3):\n",
    "            trilepton_mask[i] = 0\n",
    "        elif not((event_pt.max() > 25) & (event_pt[0] > 15) & (event_pt[1] > 15) & (event_pt[2] > 15)):\n",
    "            trilepton_mask[i] = 0\n",
    "        else:\n",
    "            flavor[0:(e_stop - e_start)] = 'e'\n",
    "            flavor[(e_stop-e_start):] = 'm'\n",
    "            for combination in np.array(list(combinations(np.argsort(event_pt), 2))):\n",
    "                if ((event_charge[combination[0]] != event_charge[combination[1]]) &\n",
    "                    (flavor[combination[0]] == flavor[combination[1]]) &\n",
    "                    (15 > massFromZ(event_px[combination[0]], event_py[combination[0]], event_pz[combination[0]], event_E[combination[0]],\n",
    "                                    event_px[combination[1]], event_py[combination[1]], event_pz[combination[1]], event_E[combination[1]]))\n",
    "                   ):\n",
    "                    trilepton_mask[i] = 0            \n",
    "    return dilepton_mask, trilepton_mask\n",
    "\n",
    "(dileptonMask, trileptonMask) = leptonChannels(tight_electrons.starts, tight_electrons.stops, tight_muons.starts, tight_muons.stops,\n",
    "                                                       tight_electrons.x.content, tight_electrons.y.content, tight_electrons.z.content, tight_electrons.energy.content,\n",
    "                                                       tight_muons.x.content, tight_muons.y.content, tight_muons.z.content, tight_muons.energy.content,\n",
    "                                                       tight_electrons.pt.content, tight_muons.pt.content, tight_electrons['charge'].content, tight_electrons['tightCharge'].content, tight_muons['charge'].content, tight_muons['ptErr'].content)"
   ]
  },
  {
   "cell_type": "markdown",
   "metadata": {},
   "source": [
    "And that gives us masks for all of the conditions we need. We can now go back to our friendly arrays, put all of our masks together, and apply them to our leptons with ease, getting a dilepton and a three-lepton array for each lepton."
   ]
  },
  {
   "cell_type": "code",
   "execution_count": 15,
   "metadata": {},
   "outputs": [],
   "source": [
    "dilepton_event = (looseMask) & (dileptonMask) & (jetMask_medium) & (jetMask_loose)\n",
    "trilepton_event = (looseMask) & (trileptonMask) & (jetMask_medium) & (jetMask_loose)\n",
    "\n",
    "tight_ll_electrons = tight_electrons[dilepton_event]\n",
    "tight_lll_electrons = tight_electrons[trilepton_event]\n",
    "tight_ll_muons = tight_muons[dilepton_event]\n",
    "tight_lll_muons = tight_muons[trilepton_event]"
   ]
  },
  {
   "cell_type": "markdown",
   "metadata": {},
   "source": [
    "From here, we can break our results naturally into different channels in a columnar fashion. For example, mumu events are simply those where <code>tight_ll_muons.counts == 2</code>, as the dileptonMask guarantees events with 2 leptons, and 2 muons thus implies 0 electrons."
   ]
  },
  {
   "cell_type": "code",
   "execution_count": 16,
   "metadata": {},
   "outputs": [],
   "source": [
    "mumu_channel = tight_ll_muons[tight_ll_muons.counts == 2]\n",
    "ee_channel = tight_ll_electrons[tight_ll_electrons.counts == 2]"
   ]
  },
  {
   "cell_type": "markdown",
   "metadata": {},
   "source": [
    "<h2>Plotting</h2>\n",
    "<p>On to some visuals! Coffea has a Hist class dedicated to histogramming, which will be comfortable and familiar to use if you've ever touched Matplotlib. We can use this class, again with some minor columnar manipulations, to plot some parameters of interest. Let's stick to the mumu and ee channels for this, since they're already defined above.\n",
    "<p>Let's try something simple: a plot of the pt of the 2nd-highest-pt muon in each event. Because awkward arrays are naturally sorted from highest to lowest pt, this'll just involve slicing an array to get the second muon in each event.</p>"
   ]
  },
  {
   "cell_type": "code",
   "execution_count": 48,
   "metadata": {},
   "outputs": [
    {
     "name": "stderr",
     "output_type": "stream",
     "text": [
      "/home/hep/madamec/.conda/envs/dask/lib/python3.7/site-packages/mplhep/_deprecate.py:56: DeprecationWarning: kwarg \"densitymode\" in function \"histplot\" is deprecated and may be removed in future versions: \"unit\"mode is not useful\n",
      "  return func(*args, **kwargs)\n"
     ]
    },
    {
     "data": {
      "text/plain": [
       "<matplotlib.axes._subplots.AxesSubplot at 0x7f99e1b5b990>"
      ]
     },
     "execution_count": 48,
     "metadata": {},
     "output_type": "execute_result"
    },
    {
     "data": {
      "image/png": "[encoded data removed]",
      "text/plain": [
       "<Figure size 432x288 with 1 Axes>"
      ]
     },
     "metadata": {
      "needs_background": "light"
     },
     "output_type": "display_data"
    }
   ],
   "source": [
    "from coffea import hist\n",
    "\n",
    "second_pt = hist.Hist(\"Events\", \n",
    "                      hist.Cat(name='channel', label='Channel'), \n",
    "                      hist.Bin(name='pt2', label='Second pT', n_or_arr=20, lo=0, hi=150))\n",
    "\n",
    "# For all event pts (:), get second index (1). Also, removed jagged structure to get flat array.\n",
    "mumu_pt2 = mumu_channel.pt[:, 1].flatten()\n",
    "ee_pt2 = ee_channel.pt[:, 1].flatten()\n",
    "\n",
    "second_pt.fill(channel='mumu', pt2=mumu_pt2.flatten())\n",
    "second_pt.fill(channel='ee', pt2=ee_pt2.flatten())\n",
    "\n",
    "hist.plot1d(second_pt, overlay='channel')"
   ]
  },
  {
   "cell_type": "markdown",
   "metadata": {},
   "source": [
    "<p>How about something with a little more topology? Let's plot \"$\\Delta \\eta$ between the max-$\\eta$ light jet and the max-pt bjet.\" In our case, a light jet will be defined as one that fails <code>loose_wp</code> and a bjet will be one that passes <code>loose_wp</code>."
   ]
  },
  {
   "cell_type": "code",
   "execution_count": 18,
   "metadata": {},
   "outputs": [],
   "source": [
    "mumu_jets = jets[dilepton_event & (tight_muons.counts == 2)]\n",
    "\n",
    "light_jets = mumu_jets[mumu_jets.btagCSVV2 <= loose_wp]\n",
    "bjets = mumu_jets[mumu_jets.btagCSVV2 > loose_wp]"
   ]
  },
  {
   "cell_type": "markdown",
   "metadata": {},
   "source": [
    "We want to deal with comparisons between <code>light_jets</code> and <code>bjets</code>. To do so, let's introduce some combinatorics tools that Coffea features. For cross-array comparisons, <code>array1.cross(array2)</code> allows us to generate tuple pairs of elements in the form (array1 element, array2 element). We'll cross all of our bjets with the max-$\\eta$ light jet, generating pairs of every bjet with one light jet from every event."
   ]
  },
  {
   "cell_type": "code",
   "execution_count": 25,
   "metadata": {},
   "outputs": [
    {
     "name": "stdout",
     "output_type": "stream",
     "text": [
      "bjets\n",
      "[[<Jet 576> <Jet 580> <Jet 583>] [<Jet 1874>] [<Jet 1989> <Jet 1991> <Jet 1992> <Jet 1996>] ... [<Jet 794903>] [<Jet 802589>] [<Jet 804977> <Jet 804978>]]\n",
      "\n",
      "max-eta light jets\n",
      "[[<Jet 577>] [<Jet 1870>] [<Jet 1995>] ... [<Jet 794907>] [<Jet 802591>] [<Jet 804976>]]\n",
      "\n",
      "crossed pairs\n",
      "[[(<Jet 576>, <Jet 577>) (<Jet 580>, <Jet 577>) (<Jet 583>, <Jet 577>)] [(<Jet 1874>, <Jet 1870>)] [(<Jet 1989>, <Jet 1995>) (<Jet 1991>, <Jet 1995>) (<Jet 1992>, <Jet 1995>) (<Jet 1996>, <Jet 1995>)] ... [(<Jet 794903>, <Jet 794907>)] [(<Jet 802589>, <Jet 802591>)] [(<Jet 804977>, <Jet 804976>) (<Jet 804978>, <Jet 804976>)]]\n"
     ]
    }
   ],
   "source": [
    "# argmax() returns the index of the maximum-valued element. Just another way to get max for an unordered array.\n",
    "mumu_jetcross = bjets.cross(light_jets[light_jets.eta.argmax()])\n",
    "print(\"bjets\")\n",
    "print(bjets)\n",
    "print(\"\\nmax-eta light jets\")\n",
    "print(light_jets[light_jets.eta.argmax()])\n",
    "print(\"\\ncrossed pairs\")\n",
    "print(mumu_jetcross)"
   ]
  },
  {
   "cell_type": "markdown",
   "metadata": {},
   "source": [
    "Of course, <code>.cross()</code> will only return an actual pair if both events aren't empty. Otherwise, it'll return an empty subarray. We need to make sure there is more than one jet in each event; we can do this by checking that the <code>.counts</code> attribute is >= 1. Then, we need to find the pair in each event whose first entry (from bjets) has the highest pt. Of course, the <code>.cross()</code> is ordered by the first array, which was bjets, and that was ordered from highest to lowest pt, so the highest pt pair is the <b>first</b> pair."
   ]
  },
  {
   "cell_type": "code",
   "execution_count": 34,
   "metadata": {},
   "outputs": [
    {
     "data": {
      "text/plain": [
       "<Table [(<Jet 576>, <Jet 577>) (<Jet 1874>, <Jet 1870>) (<Jet 1989>, <Jet 1995>) ... (<Jet 794903>, <Jet 794907>) (<Jet 802589>, <Jet 802591>) (<Jet 804977>, <Jet 804976>)] at 0x7f99eedfa190>"
      ]
     },
     "execution_count": 34,
     "metadata": {},
     "output_type": "execute_result"
    }
   ],
   "source": [
    "mumu_jetpair = mumu_jetcross[mumu_jetcross.counts >= 1][:, 0]\n",
    "mumu_jetpair"
   ]
  },
  {
   "cell_type": "markdown",
   "metadata": {},
   "source": [
    "And now all we have to do is find the difference in $\\eta$ between the values of the pair. The respective pair-wise elements can be accessed by <code>.i0</code> and <code>.i1</code>. We take their difference (which is taking the difference of their Lorentz vector) and then ask for $\\eta$."
   ]
  },
  {
   "cell_type": "code",
   "execution_count": 47,
   "metadata": {},
   "outputs": [
    {
     "name": "stderr",
     "output_type": "stream",
     "text": [
      "/home/hep/madamec/.conda/envs/dask/lib/python3.7/site-packages/mplhep/_deprecate.py:56: DeprecationWarning: kwarg \"densitymode\" in function \"histplot\" is deprecated and may be removed in future versions: \"unit\"mode is not useful\n",
      "  return func(*args, **kwargs)\n"
     ]
    },
    {
     "data": {
      "text/plain": [
       "<matplotlib.axes._subplots.AxesSubplot at 0x7f99ec94a6d0>"
      ]
     },
     "execution_count": 47,
     "metadata": {},
     "output_type": "execute_result"
    },
    {
     "data": {
      "image/png": "[encoded data removed]",
      "text/plain": [
       "<Figure size 432x288 with 1 Axes>"
      ]
     },
     "metadata": {
      "needs_background": "light"
     },
     "output_type": "display_data"
    }
   ],
   "source": [
    "mumu_etadiff = hist.Hist(\"Events\",\n",
    "                      hist.Cat(name='channel', label='Channel'),\n",
    "                      hist.Bin(name='etadiff', label=r'$\\Delta \\eta$ between the max-$\\eta$ light jet and the max-pt bjet', n_or_arr=20, lo=0, hi=6))\n",
    "\n",
    "# For all event pts (:), get second index (1). Also, removed jagged structure to get flat array.\n",
    "mumu_fwdJet_leadbJet = np.abs((mumu_jetpair.i0 - mumu_jetpair.i1).eta)\n",
    "\n",
    "mumu_etadiff.fill(channel='mumu', etadiff=mumu_fwdJet_leadbJet.flatten())\n",
    "hist.plot1d(mumu_etadiff, overlay='channel')"
   ]
  },
  {
   "cell_type": "markdown",
   "metadata": {},
   "source": [
    "<h2>Demo</h2>\n",
    "<p>Alright, we've seen a lot of neat columnar tools, but it doesn't end there! Coffea also makes scale-out easy. All we have to do is bundle up our work in the <code>process.ProcessorABC</code> class, and we can feed in however many files we desire (which is, probably, more than 1) with ease. This class also features several executors which allow deployment on Dask, Spark, and Parsl, as well as your local machine. \n",
    "\n",
    "<p>To end this tutorial, we will diverge from this notebook a little bit, as I will demonstrate a run of the analysis on a Dask cluster; specifically, the analysis facility that Oksana Shadura <a href=\"https://indico.cern.ch/event/882824/timetable/#43-a-prototype-us-cms-analysis\">gave a talk about</a> yesterday. If you want to look at, use as a reference, or play with my analysis later, you can run <a href=\"./analysis-local.ipynb\">the analysis file that I've provided</a>, which uses the futures_executor to execute locally. You will, however, need a CMS certificate to be able to access its datasets. Failure to do so will result in the oh-so-familiar <code>OSError: [FATAL] Invalid address</code>."
   ]
  },
  {
   "cell_type": "markdown",
   "metadata": {},
   "source": [
    "<h2>Acknowledgements</h2>\n",
    "<p>These projects are supported by National Science Foundation grants ACI-1450323 (through DIANA-HEP), OAC-1836650 (through IRIS-HEP), and PHY-1624356 (through U.S. CMS).</p>"
   ]
  },
  {
   "cell_type": "code",
   "execution_count": null,
   "metadata": {},
   "outputs": [],
   "source": []
  }
 ],
 "metadata": {
  "kernelspec": {
   "display_name": "Python 3",
   "language": "python",
   "name": "python3"
  },
  "language_info": {
   "codemirror_mode": {
    "name": "ipython",
    "version": 3
   },
   "file_extension": ".py",
   "mimetype": "text/x-python",
   "name": "python",
   "nbconvert_exporter": "python",
   "pygments_lexer": "ipython3",
   "version": "3.7.6"
  }
 },
 "nbformat": 4,
 "nbformat_minor": 4
}
